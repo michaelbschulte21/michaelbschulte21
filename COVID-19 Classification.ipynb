{
 "cells": [
  {
   "cell_type": "code",
   "execution_count": 1,
   "id": "4d261da1",
   "metadata": {},
   "outputs": [],
   "source": [
    "import tensorflow as tf\n",
    "from tensorflow import keras\n",
    "from tensorflow.keras.models import Sequential\n",
    "from tensorflow.keras.preprocessing.image import ImageDataGenerator\n",
    "\n",
    "from sklearn.metrics import classification_report\n",
    "from sklearn.metrics import confusion_matrix\n",
    "\n",
    "from tensorflow.keras.callbacks import EarlyStopping\n",
    "from tensorflow.keras import layers\n",
    "\n",
    "import matplotlib.pyplot as plt\n",
    "import numpy"
   ]
  },
  {
   "cell_type": "code",
   "execution_count": 5,
   "id": "eeaeaedd",
   "metadata": {},
   "outputs": [
    {
     "name": "stdout",
     "output_type": "stream",
     "text": [
      "\n",
      "Loading training data...\n",
      "Found 251 images belonging to 3 classes.\n",
      "\n",
      "Loading validation data...\n",
      "Found 251 images belonging to 3 classes.\n",
      "\n",
      "\n",
      "{'featurewise_center': False, 'samplewise_center': False, 'featurewise_std_normalization': False, 'samplewise_std_normalization': False, 'zca_whitening': False, 'zca_epsilon': 1e-06, 'rotation_range': 25, 'width_shift_range': 0.05, 'height_shift_range': 0.05, 'shear_range': 0.0, 'zoom_range': [0.9, 1.1], 'channel_shift_range': 0.0, 'fill_mode': 'nearest', 'cval': 0.0, 'horizontal_flip': False, 'vertical_flip': False, 'rescale': 0.00392156862745098, 'preprocessing_function': None, 'dtype': 'float32', 'interpolation_order': 1, 'data_format': 'channels_last', 'channel_axis': 3, 'row_axis': 1, 'col_axis': 2, '_validation_split': 0.0, 'mean': None, 'std': None, 'principal_components': None, 'brightness_range': None}\n"
     ]
    }
   ],
   "source": [
    "#Construct ImageDataGenerator object:\n",
    "directory = 'Covid19-dataset/train'\n",
    "class_mode = 'categorical'\n",
    "color_mode = 'grayscale'\n",
    "target_size = (256, 256)\n",
    "BATCH_SIZE = 32\n",
    "\n",
    "print('\\nLoading training data...')\n",
    "\n",
    "training_data_generator = ImageDataGenerator(rescale = 1.0/255, zoom_range = 0.1, rotation_range = 25, width_shift_range = 0.05, height_shift_range = 0.05)\n",
    "\n",
    "validation_data_generator = ImageDataGenerator()\n",
    "\n",
    "training_iterator = training_data_generator.flow_from_directory(directory, class_mode = 'categorical', color_mode = 'grayscale', batch_size = BATCH_SIZE)\n",
    "\n",
    "training_iterator.next()\n",
    "\n",
    "print('\\nLoading validation data...')\n",
    "\n",
    "validation_iterator = validation_data_generator.flow_from_directory(directory, class_mode = 'categorical', color_mode = 'grayscale', batch_size = BATCH_SIZE)\n",
    "\n",
    "#Print its attributes:\n",
    "print('\\n')\n",
    "print(training_data_generator.__dict__)"
   ]
  },
  {
   "cell_type": "code",
   "execution_count": 6,
   "id": "94552ed2",
   "metadata": {},
   "outputs": [
    {
     "name": "stdout",
     "output_type": "stream",
     "text": [
      "\n",
      "Building model...\n"
     ]
    }
   ],
   "source": [
    "print('\\nBuilding model...')\n",
    "def build_model(training_data):\n",
    "    #Sequential model\n",
    "    model = Sequential()\n",
    "    #Input layer with grayscale image shape (1)\n",
    "    model.add(tf.keras.Input(shape=(256, 256, 1)))\n",
    "    #Convolution hidden layers with relu activation\n",
    "    #MaxPooling layers and dropout layers\n",
    "    model.add(layers.Conv2D(5, 5, strides=3, activation='relu'))\n",
    "    model.add(layers.MaxPooling2D(pool_size=(2,2), strides=(2,2)))\n",
    "    model.add(layers.Dropout(0.1))\n",
    "    model.add(layers.Conv2D(3, 3, strides=1, activation='relu'))\n",
    "    model.add(layers.MaxPooling2D(pool_size=(2,2), strides=(2,2)))\n",
    "    model.add(layers.Dropout(0.2))\n",
    "    \n",
    "    model.add(layers.Flatten())\n",
    "    #Output layer with softmax activation\n",
    "    model.add(layers.Dense(3, activation='softmax'))\n",
    "    \n",
    "    print('\\nCompiling model...')\n",
    "    model.compile(optimizer=tf.keras.optimizers.Adam(learning_rate=0.001), loss=tf.keras.losses.CategoricalCrossentropy(), metrics=[tf.keras.metrics.CategoricalAccuracy(), tf.keras.metrics.AUC()])\n",
    "    \n",
    "    #summarize model\n",
    "    model.summary()\n",
    "    return model"
   ]
  },
  {
   "cell_type": "code",
   "execution_count": 10,
   "id": "e733a2c1",
   "metadata": {},
   "outputs": [
    {
     "name": "stdout",
     "output_type": "stream",
     "text": [
      "\n",
      "Compiling model...\n",
      "Model: \"sequential_3\"\n",
      "_________________________________________________________________\n",
      " Layer (type)                Output Shape              Param #   \n",
      "=================================================================\n",
      " conv2d_6 (Conv2D)           (None, 84, 84, 5)         130       \n",
      "                                                                 \n",
      " max_pooling2d_6 (MaxPooling  (None, 42, 42, 5)        0         \n",
      " 2D)                                                             \n",
      "                                                                 \n",
      " dropout_6 (Dropout)         (None, 42, 42, 5)         0         \n",
      "                                                                 \n",
      " conv2d_7 (Conv2D)           (None, 40, 40, 3)         138       \n",
      "                                                                 \n",
      " max_pooling2d_7 (MaxPooling  (None, 20, 20, 3)        0         \n",
      " 2D)                                                             \n",
      "                                                                 \n",
      " dropout_7 (Dropout)         (None, 20, 20, 3)         0         \n",
      "                                                                 \n",
      " flatten_3 (Flatten)         (None, 1200)              0         \n",
      "                                                                 \n",
      " dense_3 (Dense)             (None, 3)                 3603      \n",
      "                                                                 \n",
      "=================================================================\n",
      "Total params: 3,871\n",
      "Trainable params: 3,871\n",
      "Non-trainable params: 0\n",
      "_________________________________________________________________\n"
     ]
    }
   ],
   "source": [
    "model = build_model(training_iterator)\n",
    "\n",
    "#early stopping\n",
    "es = EarlyStopping(monitor='val_auc', mode='min', verbose=1, patience=20)"
   ]
  },
  {
   "cell_type": "code",
   "execution_count": 24,
   "id": "4067492d",
   "metadata": {},
   "outputs": [
    {
     "name": "stdout",
     "output_type": "stream",
     "text": [
      "\n",
      "Training model...\n",
      "Epoch 1/10\n",
      "8/7 [==============================] - ETA: 0s - loss: 0.4492 - categorical_accuracy: 0.8167 - auc_3: 0.9490WARNING:tensorflow:Early stopping conditioned on metric `val_auc` which is not available. Available metrics are: loss,categorical_accuracy,auc_3,val_loss,val_categorical_accuracy,val_auc_3\n",
      "7/7 [==============================] - 3s 416ms/step - loss: 0.4492 - categorical_accuracy: 0.8167 - auc_3: 0.9490 - val_loss: 19.1963 - val_categorical_accuracy: 0.9124 - val_auc_3: 0.9343\n",
      "Epoch 2/10\n",
      "8/7 [==============================] - ETA: 0s - loss: 0.3901 - categorical_accuracy: 0.8486 - auc_3: 0.9614WARNING:tensorflow:Early stopping conditioned on metric `val_auc` which is not available. Available metrics are: loss,categorical_accuracy,auc_3,val_loss,val_categorical_accuracy,val_auc_3\n",
      "7/7 [==============================] - 3s 380ms/step - loss: 0.3901 - categorical_accuracy: 0.8486 - auc_3: 0.9614 - val_loss: 20.1886 - val_categorical_accuracy: 0.9084 - val_auc_3: 0.9313\n",
      "Epoch 3/10\n",
      "8/7 [==============================] - ETA: 0s - loss: 0.3472 - categorical_accuracy: 0.8685 - auc_3: 0.9723WARNING:tensorflow:Early stopping conditioned on metric `val_auc` which is not available. Available metrics are: loss,categorical_accuracy,auc_3,val_loss,val_categorical_accuracy,val_auc_3\n",
      "7/7 [==============================] - 3s 395ms/step - loss: 0.3472 - categorical_accuracy: 0.8685 - auc_3: 0.9723 - val_loss: 23.8782 - val_categorical_accuracy: 0.9163 - val_auc_3: 0.9373\n",
      "Epoch 4/10\n",
      "8/7 [==============================] - ETA: 0s - loss: 0.3901 - categorical_accuracy: 0.8327 - auc_3: 0.9584WARNING:tensorflow:Early stopping conditioned on metric `val_auc` which is not available. Available metrics are: loss,categorical_accuracy,auc_3,val_loss,val_categorical_accuracy,val_auc_3\n",
      "7/7 [==============================] - 3s 414ms/step - loss: 0.3901 - categorical_accuracy: 0.8327 - auc_3: 0.9584 - val_loss: 28.2819 - val_categorical_accuracy: 0.8884 - val_auc_3: 0.9246\n",
      "Epoch 5/10\n",
      "8/7 [==============================] - ETA: 0s - loss: 0.3974 - categorical_accuracy: 0.8446 - auc_3: 0.9566WARNING:tensorflow:Early stopping conditioned on metric `val_auc` which is not available. Available metrics are: loss,categorical_accuracy,auc_3,val_loss,val_categorical_accuracy,val_auc_3\n",
      "7/7 [==============================] - 3s 393ms/step - loss: 0.3974 - categorical_accuracy: 0.8446 - auc_3: 0.9566 - val_loss: 22.5723 - val_categorical_accuracy: 0.9124 - val_auc_3: 0.9341\n",
      "Epoch 6/10\n",
      "8/7 [==============================] - ETA: 0s - loss: 0.3632 - categorical_accuracy: 0.8406 - auc_3: 0.9629WARNING:tensorflow:Early stopping conditioned on metric `val_auc` which is not available. Available metrics are: loss,categorical_accuracy,auc_3,val_loss,val_categorical_accuracy,val_auc_3\n",
      "7/7 [==============================] - 3s 401ms/step - loss: 0.3632 - categorical_accuracy: 0.8406 - auc_3: 0.9629 - val_loss: 23.0184 - val_categorical_accuracy: 0.9163 - val_auc_3: 0.9373\n",
      "Epoch 7/10\n",
      "8/7 [==============================] - ETA: 0s - loss: 0.3237 - categorical_accuracy: 0.8645 - auc_3: 0.9712WARNING:tensorflow:Early stopping conditioned on metric `val_auc` which is not available. Available metrics are: loss,categorical_accuracy,auc_3,val_loss,val_categorical_accuracy,val_auc_3\n",
      "7/7 [==============================] - 3s 397ms/step - loss: 0.3237 - categorical_accuracy: 0.8645 - auc_3: 0.9712 - val_loss: 20.3578 - val_categorical_accuracy: 0.9124 - val_auc_3: 0.9339\n",
      "Epoch 8/10\n",
      "8/7 [==============================] - ETA: 0s - loss: 0.3111 - categorical_accuracy: 0.9044 - auc_3: 0.9731WARNING:tensorflow:Early stopping conditioned on metric `val_auc` which is not available. Available metrics are: loss,categorical_accuracy,auc_3,val_loss,val_categorical_accuracy,val_auc_3\n",
      "7/7 [==============================] - 3s 406ms/step - loss: 0.3111 - categorical_accuracy: 0.9044 - auc_3: 0.9731 - val_loss: 19.5508 - val_categorical_accuracy: 0.9243 - val_auc_3: 0.9431\n",
      "Epoch 9/10\n",
      "8/7 [==============================] - ETA: 0s - loss: 0.3246 - categorical_accuracy: 0.8765 - auc_3: 0.9719WARNING:tensorflow:Early stopping conditioned on metric `val_auc` which is not available. Available metrics are: loss,categorical_accuracy,auc_3,val_loss,val_categorical_accuracy,val_auc_3\n",
      "7/7 [==============================] - 3s 431ms/step - loss: 0.3246 - categorical_accuracy: 0.8765 - auc_3: 0.9719 - val_loss: 19.1074 - val_categorical_accuracy: 0.9203 - val_auc_3: 0.9401\n",
      "Epoch 10/10\n",
      "8/7 [==============================] - ETA: 0s - loss: 0.3537 - categorical_accuracy: 0.8486 - auc_3: 0.9645WARNING:tensorflow:Early stopping conditioned on metric `val_auc` which is not available. Available metrics are: loss,categorical_accuracy,auc_3,val_loss,val_categorical_accuracy,val_auc_3\n",
      "7/7 [==============================] - 3s 413ms/step - loss: 0.3537 - categorical_accuracy: 0.8486 - auc_3: 0.9645 - val_loss: 22.5927 - val_categorical_accuracy: 0.9203 - val_auc_3: 0.9401\n"
     ]
    }
   ],
   "source": [
    "print('\\nTraining model...')\n",
    "EPOCHS = 10\n",
    "history = model.fit(training_iterator, \n",
    "                   steps_per_epoch=training_iterator.samples/BATCH_SIZE,\n",
    "                   epochs=EPOCHS,\n",
    "                   validation_data=validation_iterator,\n",
    "                   validation_steps=validation_iterator.samples/BATCH_SIZE,\n",
    "                   callbacks=[es])"
   ]
  },
  {
   "cell_type": "code",
   "execution_count": 25,
   "id": "ffa7dd63",
   "metadata": {},
   "outputs": [
    {
     "data": {
      "image/png": "[encoded data removed]",
      "text/plain": [
       "<Figure size 432x288 with 2 Axes>"
      ]
     },
     "metadata": {
      "needs_background": "light"
     },
     "output_type": "display_data"
    }
   ],
   "source": [
    "#plotting categorical and validation accuracy over epochs\n",
    "fig = plt.figure()\n",
    "ax1 = fig.add_subplot(2, 1, 1)\n",
    "ax1.plot(history.history['categorical_accuracy'])\n",
    "ax1.plot(history.history['val_categorical_accuracy'])\n",
    "ax1.set_title('model accuracy')\n",
    "ax1.set_xlabel('epoch')\n",
    "ax1.set_ylabel('accuracy')\n",
    "ax1.legend(['train', 'validation'], loc='upper left')\n",
    "\n",
    "#plotting loss and validation loss over epochs\n",
    "ax2 = fig.add_subplot(2, 1, 2)\n",
    "ax2.plot(history.history['loss'])\n",
    "ax2.plot(history.history['val_loss'])\n",
    "ax2.set_title('model loss')\n",
    "ax2.set_xlabel('epoch')\n",
    "ax2.set_ylabel('loss')\n",
    "ax2.legend(['train', 'validation'], loc='upper left')\n",
    "\n",
    "plt.show()"
   ]
  },
  {
   "cell_type": "code",
   "execution_count": 26,
   "id": "f75343af",
   "metadata": {},
   "outputs": [
    {
     "name": "stdout",
     "output_type": "stream",
     "text": [
      "              precision    recall  f1-score   support\n",
      "\n",
      "       Covid       0.48      0.50      0.49       111\n",
      "      Normal       0.29      0.26      0.27        70\n",
      "   Pneumonia       0.26      0.27      0.27        70\n",
      "\n",
      "    accuracy                           0.37       251\n",
      "   macro avg       0.34      0.34      0.34       251\n",
      "weighted avg       0.37      0.37      0.37       251\n",
      "\n"
     ]
    }
   ],
   "source": [
    "#Create report\n",
    "test_steps_per_enoch = numpy.math.ceil(validation_iterator.samples/validation_iterator.batch_size)\n",
    "test_steps_per_epoch = numpy.math.ceil(validation_iterator.samples/validation_iterator.batch_size)\n",
    "predictions = model.predict(validation_iterator, steps=test_steps_per_epoch)\n",
    "predicted_classes = numpy.argmax(predictions, axis=1)\n",
    "true_classes = validation_iterator.classes\n",
    "class_labels = list(validation_iterator.class_indices.keys())\n",
    "report = classification_report(true_classes, predicted_classes, target_names=class_labels)\n",
    "print(report)"
   ]
  },
  {
   "cell_type": "code",
   "execution_count": 27,
   "id": "2b8d7d51",
   "metadata": {},
   "outputs": [
    {
     "name": "stdout",
     "output_type": "stream",
     "text": [
      "[[56 24 31]\n",
      " [29 18 23]\n",
      " [31 20 19]]\n"
     ]
    }
   ],
   "source": [
    "#confusion matrix\n",
    "cm = confusion_matrix(true_classes, predicted_classes)\n",
    "print(cm)"
   ]
  },
  {
   "cell_type": "code",
   "execution_count": null,
   "id": "e4962394",
   "metadata": {},
   "outputs": [],
   "source": []
  }
 ],
 "metadata": {
  "kernelspec": {
   "display_name": "Python 3",
   "language": "python",
   "name": "python3"
  },
  "language_info": {
   "codemirror_mode": {
    "name": "ipython",
    "version": 3
   },
   "file_extension": ".py",
   "mimetype": "text/x-python",
   "name": "python",
   "nbconvert_exporter": "python",
   "pygments_lexer": "ipython3",
   "version": "3.8.8"
  }
 },
 "nbformat": 4,
 "nbformat_minor": 5
}
