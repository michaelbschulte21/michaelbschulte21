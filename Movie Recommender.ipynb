{
 "cells": [
  {
   "cell_type": "code",
   "execution_count": 3,
   "id": "67409b97",
   "metadata": {},
   "outputs": [],
   "source": [
    "#Libraries\n",
    "import pandas as pd\n",
    "import numpy as np\n",
    "import surprise\n",
    "from surprise import Reader, Dataset, SVD\n",
    "from surprise.model_selection.validation import cross_validate"
   ]
  },
  {
   "cell_type": "code",
   "execution_count": 4,
   "id": "9be8fc3f",
   "metadata": {},
   "outputs": [],
   "source": [
    "#Create function to read in txt files\n",
    "def readFile(file_path, rows=100000):\n",
    "    data_dict = {'Cust_Id' : [], 'Movie_Id' : [], 'Rating' : [], 'Date' : []}\n",
    "    f = open(file_path, 'r')\n",
    "    count = 0\n",
    "    for line in f:\n",
    "        count += 1\n",
    "        if count > rows:\n",
    "            break\n",
    "        if ':' in line:\n",
    "            movidId = line[:-2] #remove the last character ':'\n",
    "            movieId = int(movidId)\n",
    "        else:\n",
    "            customerId, rating, date = line.split(',')\n",
    "            data_dict['Cust_Id'].append(customerId)\n",
    "            data_dict['Movie_Id'].append(movieId)\n",
    "            data_dict['Rating'].append(rating)\n",
    "            data_dict['Date'].append(date.rstrip(\"\\n\"))\n",
    "    f.close()\n",
    "    return pd.DataFrame(data_dict)"
   ]
  },
  {
   "cell_type": "code",
   "execution_count": 5,
   "id": "cae58e21",
   "metadata": {},
   "outputs": [],
   "source": [
    "#Load in dataframes\n",
    "df1 = readFile('combined_data_1.txt')\n",
    "df2 = readFile('combined_data_2.txt')\n",
    "df3 = readFile('combined_data_3.txt')\n",
    "df4 = readFile('combined_data_4.txt')"
   ]
  },
  {
   "cell_type": "code",
   "execution_count": 6,
   "id": "f6703a5b",
   "metadata": {},
   "outputs": [],
   "source": [
    "#Change rating to float\n",
    "df1['Rating'] = df1['Rating'].astype(float)\n",
    "df2['Rating'] = df2['Rating'].astype(float)\n",
    "df3['Rating'] = df3['Rating'].astype(float)\n",
    "df4['Rating'] = df4['Rating'].astype(float)"
   ]
  },
  {
   "cell_type": "code",
   "execution_count": 7,
   "id": "2c2ba10e",
   "metadata": {},
   "outputs": [
    {
     "name": "stderr",
     "output_type": "stream",
     "text": [
      "<ipython-input-7-aaea6abafbf0>:2: FutureWarning: The frame.append method is deprecated and will be removed from pandas in a future version. Use pandas.concat instead.\n",
      "  df = df.append(df2)\n",
      "<ipython-input-7-aaea6abafbf0>:3: FutureWarning: The frame.append method is deprecated and will be removed from pandas in a future version. Use pandas.concat instead.\n",
      "  df = df.append(df3)\n",
      "<ipython-input-7-aaea6abafbf0>:4: FutureWarning: The frame.append method is deprecated and will be removed from pandas in a future version. Use pandas.concat instead.\n",
      "  df = df.append(df4)\n"
     ]
    }
   ],
   "source": [
    "df = df1.copy()\n",
    "df = df.append(df2)\n",
    "df = df.append(df3)\n",
    "df = df.append(df4)"
   ]
  },
  {
   "cell_type": "code",
   "execution_count": 8,
   "id": "acbf6e9f",
   "metadata": {},
   "outputs": [
    {
     "data": {
      "text/html": [
       "<div>\n",
       "<style scoped>\n",
       "    .dataframe tbody tr th:only-of-type {\n",
       "        vertical-align: middle;\n",
       "    }\n",
       "\n",
       "    .dataframe tbody tr th {\n",
       "        vertical-align: top;\n",
       "    }\n",
       "\n",
       "    .dataframe thead th {\n",
       "        text-align: right;\n",
       "    }\n",
       "</style>\n",
       "<table border=\"1\" class=\"dataframe\">\n",
       "  <thead>\n",
       "    <tr style=\"text-align: right;\">\n",
       "      <th></th>\n",
       "      <th>Cust_Id</th>\n",
       "      <th>Movie_Id</th>\n",
       "      <th>Rating</th>\n",
       "      <th>Date</th>\n",
       "    </tr>\n",
       "  </thead>\n",
       "  <tbody>\n",
       "    <tr>\n",
       "      <th>0</th>\n",
       "      <td>1488844</td>\n",
       "      <td>1</td>\n",
       "      <td>3.0</td>\n",
       "      <td>2005-09-06</td>\n",
       "    </tr>\n",
       "    <tr>\n",
       "      <th>1</th>\n",
       "      <td>822109</td>\n",
       "      <td>1</td>\n",
       "      <td>5.0</td>\n",
       "      <td>2005-05-13</td>\n",
       "    </tr>\n",
       "    <tr>\n",
       "      <th>2</th>\n",
       "      <td>885013</td>\n",
       "      <td>1</td>\n",
       "      <td>4.0</td>\n",
       "      <td>2005-10-19</td>\n",
       "    </tr>\n",
       "    <tr>\n",
       "      <th>3</th>\n",
       "      <td>30878</td>\n",
       "      <td>1</td>\n",
       "      <td>4.0</td>\n",
       "      <td>2005-12-26</td>\n",
       "    </tr>\n",
       "    <tr>\n",
       "      <th>4</th>\n",
       "      <td>823519</td>\n",
       "      <td>1</td>\n",
       "      <td>3.0</td>\n",
       "      <td>2004-05-03</td>\n",
       "    </tr>\n",
       "  </tbody>\n",
       "</table>\n",
       "</div>"
      ],
      "text/plain": [
       "   Cust_Id  Movie_Id  Rating        Date\n",
       "0  1488844         1     3.0  2005-09-06\n",
       "1   822109         1     5.0  2005-05-13\n",
       "2   885013         1     4.0  2005-10-19\n",
       "3    30878         1     4.0  2005-12-26\n",
       "4   823519         1     3.0  2004-05-03"
      ]
     },
     "execution_count": 8,
     "metadata": {},
     "output_type": "execute_result"
    }
   ],
   "source": [
    "df.index = np.arange(0, len(df))\n",
    "df.head()"
   ]
  },
  {
   "cell_type": "code",
   "execution_count": 9,
   "id": "fd2ada4c",
   "metadata": {},
   "outputs": [
    {
     "data": {
      "text/html": [
       "<div>\n",
       "<style scoped>\n",
       "    .dataframe tbody tr th:only-of-type {\n",
       "        vertical-align: middle;\n",
       "    }\n",
       "\n",
       "    .dataframe tbody tr th {\n",
       "        vertical-align: top;\n",
       "    }\n",
       "\n",
       "    .dataframe thead th {\n",
       "        text-align: right;\n",
       "    }\n",
       "</style>\n",
       "<table border=\"1\" class=\"dataframe\">\n",
       "  <thead>\n",
       "    <tr style=\"text-align: right;\">\n",
       "      <th></th>\n",
       "      <th>Movie_Id</th>\n",
       "      <th>Year</th>\n",
       "      <th>Name</th>\n",
       "    </tr>\n",
       "  </thead>\n",
       "  <tbody>\n",
       "    <tr>\n",
       "      <th>0</th>\n",
       "      <td>1</td>\n",
       "      <td>2003.0</td>\n",
       "      <td>Dinosaur Planet</td>\n",
       "    </tr>\n",
       "    <tr>\n",
       "      <th>1</th>\n",
       "      <td>2</td>\n",
       "      <td>2004.0</td>\n",
       "      <td>Isle of Man TT 2004 Review</td>\n",
       "    </tr>\n",
       "    <tr>\n",
       "      <th>2</th>\n",
       "      <td>3</td>\n",
       "      <td>1997.0</td>\n",
       "      <td>Character</td>\n",
       "    </tr>\n",
       "    <tr>\n",
       "      <th>3</th>\n",
       "      <td>4</td>\n",
       "      <td>1994.0</td>\n",
       "      <td>Paula Abdul's Get Up &amp; Dance</td>\n",
       "    </tr>\n",
       "    <tr>\n",
       "      <th>4</th>\n",
       "      <td>5</td>\n",
       "      <td>2004.0</td>\n",
       "      <td>The Rise and Fall of ECW</td>\n",
       "    </tr>\n",
       "  </tbody>\n",
       "</table>\n",
       "</div>"
      ],
      "text/plain": [
       "   Movie_Id    Year                          Name\n",
       "0         1  2003.0               Dinosaur Planet\n",
       "1         2  2004.0    Isle of Man TT 2004 Review\n",
       "2         3  1997.0                     Character\n",
       "3         4  1994.0  Paula Abdul's Get Up & Dance\n",
       "4         5  2004.0      The Rise and Fall of ECW"
      ]
     },
     "execution_count": 9,
     "metadata": {},
     "output_type": "execute_result"
    }
   ],
   "source": [
    "df_title = pd.read_csv('movie_titles.csv', encoding = 'ISO-8859-1', header = None, names = ['Movie_Id', 'Year', 'Name'])\n",
    "df_title = df_title.reset_index()\n",
    "#Fix column name misalignemnt\n",
    "title = pd.DataFrame()\n",
    "title['Movie_Id'] = df_title['level_0']\n",
    "title['Year'] = df_title['level_1']\n",
    "title['Name'] = df_title['level_2']\n",
    "title.head()"
   ]
  },
  {
   "cell_type": "code",
   "execution_count": 10,
   "id": "d38f5ba4",
   "metadata": {},
   "outputs": [],
   "source": [
    "#Load Reader\n",
    "reader = Reader()"
   ]
  },
  {
   "cell_type": "code",
   "execution_count": 11,
   "id": "9974b7af",
   "metadata": {},
   "outputs": [],
   "source": [
    "data = Dataset.load_from_df(df[['Cust_Id', 'Movie_Id', 'Rating']], reader)"
   ]
  },
  {
   "cell_type": "code",
   "execution_count": 12,
   "id": "230f1a9b",
   "metadata": {},
   "outputs": [],
   "source": [
    "#Load SVD\n",
    "svd = SVD()"
   ]
  },
  {
   "cell_type": "code",
   "execution_count": 13,
   "id": "ae0bb317",
   "metadata": {},
   "outputs": [
    {
     "name": "stdout",
     "output_type": "stream",
     "text": [
      "Evaluating RMSE, MAE of algorithm SVD on 5 split(s).\n",
      "\n",
      "                  Fold 1  Fold 2  Fold 3  Fold 4  Fold 5  Mean    Std     \n",
      "RMSE (testset)    1.0172  1.0146  1.0149  1.0179  1.0151  1.0159  0.0014  \n",
      "MAE (testset)     0.8092  0.8072  0.8071  0.8081  0.8075  0.8078  0.0008  \n",
      "Fit time          29.93   30.62   31.11   24.10   22.83   27.72   3.52    \n",
      "Test time         1.11    1.16    0.74    0.87    0.76    0.93    0.17    \n"
     ]
    },
    {
     "data": {
      "text/plain": [
       "{'test_rmse': array([1.01720167, 1.01458459, 1.01487126, 1.01788628, 1.01506516]),\n",
       " 'test_mae': array([0.80923237, 0.80715581, 0.80706109, 0.80808894, 0.80749916]),\n",
       " 'fit_time': (29.93142008781433,\n",
       "  30.618131160736084,\n",
       "  31.114326238632202,\n",
       "  24.099038124084473,\n",
       "  22.8329439163208),\n",
       " 'test_time': (1.1067419052124023,\n",
       "  1.1581075191497803,\n",
       "  0.7448475360870361,\n",
       "  0.866708517074585,\n",
       "  0.7574775218963623)}"
      ]
     },
     "execution_count": 13,
     "metadata": {},
     "output_type": "execute_result"
    }
   ],
   "source": [
    "#Run 5-fold cross-validation and print results\n",
    "cross_validate(svd, data, measures=['RMSE', 'MAE'], cv=5, verbose=True)"
   ]
  },
  {
   "cell_type": "code",
   "execution_count": 14,
   "id": "7ed1c14b",
   "metadata": {},
   "outputs": [
    {
     "data": {
      "text/plain": [
       "<surprise.prediction_algorithms.matrix_factorization.SVD at 0x22ed2c919a0>"
      ]
     },
     "execution_count": 14,
     "metadata": {},
     "output_type": "execute_result"
    }
   ],
   "source": [
    "trainset = data.build_full_trainset()\n",
    "svd.fit(trainset)"
   ]
  },
  {
   "cell_type": "code",
   "execution_count": 15,
   "id": "bcc33064",
   "metadata": {},
   "outputs": [],
   "source": [
    "titles = title.copy()\n",
    "\n",
    "titles['Estimate_Score'] = titles['Movie_Id'].apply(lambda x: svd.predict(30878, x).est)"
   ]
  },
  {
   "cell_type": "code",
   "execution_count": 16,
   "id": "1ddb05f4",
   "metadata": {},
   "outputs": [
    {
     "data": {
      "text/html": [
       "<div>\n",
       "<style scoped>\n",
       "    .dataframe tbody tr th:only-of-type {\n",
       "        vertical-align: middle;\n",
       "    }\n",
       "\n",
       "    .dataframe tbody tr th {\n",
       "        vertical-align: top;\n",
       "    }\n",
       "\n",
       "    .dataframe thead th {\n",
       "        text-align: right;\n",
       "    }\n",
       "</style>\n",
       "<table border=\"1\" class=\"dataframe\">\n",
       "  <thead>\n",
       "    <tr style=\"text-align: right;\">\n",
       "      <th></th>\n",
       "      <th>Movie_Id</th>\n",
       "      <th>Year</th>\n",
       "      <th>Name</th>\n",
       "      <th>Estimate_Score</th>\n",
       "    </tr>\n",
       "  </thead>\n",
       "  <tbody>\n",
       "    <tr>\n",
       "      <th>12</th>\n",
       "      <td>13</td>\n",
       "      <td>2003.0</td>\n",
       "      <td>Lord of the Rings: The Return of the King: Ext...</td>\n",
       "      <td>4.469691</td>\n",
       "    </tr>\n",
       "    <tr>\n",
       "      <th>9235</th>\n",
       "      <td>9236</td>\n",
       "      <td>1998.0</td>\n",
       "      <td>South Park: Season 2</td>\n",
       "      <td>4.099968</td>\n",
       "    </tr>\n",
       "    <tr>\n",
       "      <th>4505</th>\n",
       "      <td>4506</td>\n",
       "      <td>1961.0</td>\n",
       "      <td>Breakfast at Tiffany's</td>\n",
       "      <td>4.034622</td>\n",
       "    </tr>\n",
       "    <tr>\n",
       "      <th>24</th>\n",
       "      <td>25</td>\n",
       "      <td>1997.0</td>\n",
       "      <td>Inspector Morse 31: Death Is Now My Neighbour</td>\n",
       "      <td>4.031928</td>\n",
       "    </tr>\n",
       "    <tr>\n",
       "      <th>13379</th>\n",
       "      <td>13380</td>\n",
       "      <td>1949.0</td>\n",
       "      <td>Stray Dog</td>\n",
       "      <td>3.996518</td>\n",
       "    </tr>\n",
       "  </tbody>\n",
       "</table>\n",
       "</div>"
      ],
      "text/plain": [
       "       Movie_Id    Year                                               Name  \\\n",
       "12           13  2003.0  Lord of the Rings: The Return of the King: Ext...   \n",
       "9235       9236  1998.0                               South Park: Season 2   \n",
       "4505       4506  1961.0                             Breakfast at Tiffany's   \n",
       "24           25  1997.0      Inspector Morse 31: Death Is Now My Neighbour   \n",
       "13379     13380  1949.0                                          Stray Dog   \n",
       "\n",
       "       Estimate_Score  \n",
       "12           4.469691  \n",
       "9235         4.099968  \n",
       "4505         4.034622  \n",
       "24           4.031928  \n",
       "13379        3.996518  "
      ]
     },
     "execution_count": 16,
     "metadata": {},
     "output_type": "execute_result"
    }
   ],
   "source": [
    "titles = titles.sort_values(by=['Estimate_Score'], ascending=False)\n",
    "titles.head()"
   ]
  },
  {
   "cell_type": "code",
   "execution_count": null,
   "id": "b524304d",
   "metadata": {},
   "outputs": [],
   "source": []
  }
 ],
 "metadata": {
  "kernelspec": {
   "display_name": "Python 3",
   "language": "python",
   "name": "python3"
  },
  "language_info": {
   "codemirror_mode": {
    "name": "ipython",
    "version": 3
   },
   "file_extension": ".py",
   "mimetype": "text/x-python",
   "name": "python",
   "nbconvert_exporter": "python",
   "pygments_lexer": "ipython3",
   "version": "3.8.8"
  }
 },
 "nbformat": 4,
 "nbformat_minor": 5
}
